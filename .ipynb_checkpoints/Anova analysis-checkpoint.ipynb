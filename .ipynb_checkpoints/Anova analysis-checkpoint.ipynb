{
 "cells": [
  {
   "cell_type": "code",
   "execution_count": 1,
   "id": "b2fe522e",
   "metadata": {},
   "outputs": [],
   "source": [
    "import pandas as pd\n",
    "import statsmodels.api as sm\n",
    "from statsmodels.formula.api import ols\n",
    "import matplotlib.pyplot as plt\n",
    "import numpy as np\n",
    "import re"
   ]
  },
  {
   "cell_type": "code",
   "execution_count": 2,
   "id": "325294e0",
   "metadata": {},
   "outputs": [],
   "source": [
    "df = pd.read_excel(\"Cleansing the data/result clean data.xlsx\")"
   ]
  },
  {
   "cell_type": "code",
   "execution_count": null,
   "id": "6420de68",
   "metadata": {
    "scrolled": false
   },
   "outputs": [],
   "source": [
    "# # how to get basic information\n",
    "# for i in df.columns.tolist()[5:] :\n",
    "#     if i == \"num_metric\" or i == \"Remarks\" :\n",
    "#         continue\n",
    "#     checked_column = df[i]\n",
    "#     type_variable = None\n",
    "#     if checked_column.dtype == 'int64' or checked_column.dtype == 'object':\n",
    "#         type_variable = 'categorical'\n",
    "#     elif checked_column.dtype == 'float64':\n",
    "#         type_variable = 'numerical'\n",
    "#     if type_variable == 'categorical' :\n",
    "#         grouped_variable = len(checked_column.drop_duplicates())\n",
    "#         mode_value_counts = checked_column.value_counts()\n",
    "#         mode_value_counts = mode_value_counts[mode_value_counts == mode_value_counts.max()]\n",
    "#         mode = mode_value_counts.index.tolist()[0]\n",
    "#         missing_values_count = checked_column.isnull().sum()\n",
    "#         percentage_mode = round(mode_value_counts.max()* 100/(len(checked_column)-missing_values_count),2)\n",
    "#         percentage_NA = round(missing_values_count* 100/(len(checked_column)-missing_values_count),2) \n",
    "#         trim_name = re.sub(\"\\s*|:\",\"\",i).strip()\n",
    "#         print(trim_name,\"is categorical variable with basic information:\\nnumber of unique group:\",grouped_variable,\"\\nmode:\",str(mode),\" (\",percentage_mode,\"%)\\nnumber of missing value:\",missing_values_count,\" (\",percentage_NA,\"%)\\nnumber non mising value :\",len(checked_column)-missing_values_count)\n",
    "#         print(\"====================================================\")\n",
    "#     elif type_variable == 'numerical' :\n",
    "#         max_value = checked_column.max()\n",
    "#         min_value = checked_column.min()\n",
    "#         median_value = checked_column.median()\n",
    "#         mean_value = checked_column.mean()\n",
    "#         missing_values_count = checked_column.isnull().sum()\n",
    "#         percentage_NA = round(missing_values_count * 100/len(checked_column),2)\n",
    "#         z_scores = np.abs((checked_column - checked_column.mean()) / checked_column.std())\n",
    "#         outliers = checked_column[z_scores > 3]\n",
    "#         percentage_outlier = round(len(outliers)* 100/(len(checked_column)-missing_values_count),2) \n",
    "#         skewness = checked_column.skew()\n",
    "#         trim_name = re.sub(\"\\s*|:\",\"\",i).strip()\n",
    "#         print(trim_name,\"is numeric variable with basic information:\\nrange from\",round(min_value,2),\"to\",round(max_value,2),\"\\nmedian value:\",round(median_value,2),\"\\nmean value:\",round(mean_value,2),\"\\nskew value:\",round(skewness,2),\"\\nnumber of outlier :\",len(outliers),\" (\",percentage_outlier,\"%)\",\"\\nnumber of missing value :\",missing_values_count,\" (\",percentage_NA,\"%)\\nnumber non mising value :\",len(checked_column)-missing_values_count)\n",
    "#         print(\"====================================================\")"
   ]
  },
  {
   "cell_type": "code",
   "execution_count": 3,
   "id": "c1cca293",
   "metadata": {},
   "outputs": [
    {
     "data": {
      "image/png": "[encoded data removed]",
      "text/plain": [
       "<Figure size 432x288 with 1 Axes>"
      ]
     },
     "metadata": {
      "needs_background": "light"
     },
     "output_type": "display_data"
    },
    {
     "name": "stdout",
     "output_type": "stream",
     "text": [
      "F-value: 0.6257861301502144\n",
      "p-value: 0.5433426677796511\n"
     ]
    }
   ],
   "source": [
    "import scipy.stats as stats\n",
    "\n",
    "# barchart\n",
    "df_clean = df[~df[\"Case:\"].isin([4,5])].copy()\n",
    "df_clean = df_clean[df_clean[\"Metric:\"] == \"PxVar\"]\n",
    "Manuf = df_clean.groupby(['Manuf'])['predictedValue'].mean()\n",
    "\n",
    "table_analyze = df_clean[[\"predicted_id\",\"Manuf\",\"Case:\",\"predictedValue\"]]\n",
    "\n",
    "pivot = pd.pivot_table(table_analyze, values=\"predictedValue\", index=[ \"Case:\"],\n",
    "                       columns=[\"Manuf\"], aggfunc=np.mean)\n",
    "\n",
    "# create a bar plot\n",
    "ax = pivot.mean().plot.bar(rot=0)\n",
    "\n",
    "# set the y-axis label\n",
    "ax.set_ylabel('Prescription points')\n",
    "\n",
    "# display the plot\n",
    "plt.show()\n",
    "\n",
    "# perform the ANOVA test\n",
    "fvalue, pvalue = stats.f_oneway(*[group for name, group in pivot.iteritems()])\n",
    "print(\"F-value:\", fvalue)\n",
    "print(\"p-value:\", pvalue)"
   ]
  },
  {
   "cell_type": "code",
   "execution_count": 4,
   "id": "9f1da29c",
   "metadata": {},
   "outputs": [
    {
     "name": "stdout",
     "output_type": "stream",
     "text": [
      "            df    sum_sq   mean_sq         F    PR(>F)\n",
      "Manuf      2.0  0.000169  0.000084  0.625786  0.543343\n",
      "Residual  24.0  0.003241  0.000135       NaN       NaN\n"
     ]
    }
   ],
   "source": [
    "# anova test on manufacture\n",
    "\n",
    "#unpivot data\n",
    "df_raw = pd.melt(pivot.reset_index(), id_vars=['Case:'], var_name=\"Manuf\", value_name=\"predictedValue\")\n",
    "\n",
    "# fit an ANOVA model\n",
    "model = ols('predictedValue ~ Manuf', data=df_raw).fit()\n",
    "anova_table = sm.stats.anova_lm(model)\n",
    "\n",
    "# print the ANOVA table\n",
    "print(anova_table)\n"
   ]
  }
 ],
 "metadata": {
  "kernelspec": {
   "display_name": "Python 3 (ipykernel)",
   "language": "python",
   "name": "python3"
  },
  "language_info": {
   "codemirror_mode": {
    "name": "ipython",
    "version": 3
   },
   "file_extension": ".py",
   "mimetype": "text/x-python",
   "name": "python",
   "nbconvert_exporter": "python",
   "pygments_lexer": "ipython3",
   "version": "3.10.4"
  }
 },
 "nbformat": 4,
 "nbformat_minor": 5
}
