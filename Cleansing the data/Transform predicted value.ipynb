{
 "cells": [
  {
   "cell_type": "code",
   "execution_count": 4,
   "id": "71105590",
   "metadata": {},
   "outputs": [],
   "source": [
    "import pandas as pd\n",
    "\n",
    "#upload the file\n",
    "predicted_value = pd.read_excel(\"clean data before python.xlsx\",sheet_name=\"predicted_value\",header=None, skiprows=11)\n",
    "metric = pd.read_excel(\"clean data before python.xlsx\",sheet_name=\"predicted_value\",header=None, nrows=10).T\n",
    "auditInfo = pd.read_excel(\"clean data before python.xlsx\",sheet_name=\"Audit Information\", skiprows=3)\n",
    "metric.columns = metric.iloc[0]\n",
    "metric = metric.drop(0)"
   ]
  },
  {
   "cell_type": "code",
   "execution_count": 17,
   "id": "4a35f9e9",
   "metadata": {},
   "outputs": [],
   "source": [
    "#transform from pivot to raw data\n",
    "dfAll = pd.DataFrame()\n",
    "for i in range(predicted_value.shape[0]) :\n",
    "    tempSeries = predicted_value.iloc[i]\n",
    "    theID = tempSeries[0]\n",
    "    dfTemp = metric\n",
    "    dfTemp[\"New_Audit_id\"] = theID\n",
    "    dfTemp[\"predictedValue\"] = tempSeries[1:]\n",
    "    dfAll = pd.concat([dfAll,dfTemp])\n",
    "#make new ID\n",
    "dfAll[\"predicted_id\"] = [ a+ \"_\" + str(b) for a,b in zip(dfAll[\"New_Audit_id\"],dfAll[\"Remarks\"])]\n",
    "#rearrange data\n",
    "dfAll = dfAll[[\"predicted_id\",'New_Audit_id', 'Metric:', 'Case:', 'Depth:', 'Energy:',\n",
    "      'Energy_FFF :', 'Gantry:', 'Mode:', 'Unidentified_column :',\n",
    "      'predictedValue']] \n",
    "dfAll = dfAll.drop_duplicates()\n",
    "dfFilteres = dfAll[dfAll[\"predictedValue\"].isna() == False]\n",
    "combinedAll = auditInfo.merge(dfFilteres,on=\"New_Audit_id\")"
   ]
  },
  {
   "cell_type": "code",
   "execution_count": 20,
   "id": "0b3a0b08",
   "metadata": {},
   "outputs": [],
   "source": [
    "combinedAll = combinedAll[['predicted_id','New_Audit_id', 'Audit_ID', 'Facility_ID',\n",
    "       'Status', 'Auditor1', 'Auditor2', 'Auditor3', 'Au date', 'Manuf',\n",
    "       'Model', 'TPS', 'Algorithm', 'Matched', 'k_Q Fac.', 'k_Q ACDS', 'Array',\n",
    "       'S.N.', 'audit', '6_k_user', '10_k_user', '15_k_user', '18_k_user',\n",
    "       '6FFF_k_user', '10FFF_k_user', '6_Daily_Output', '10_Daily_Output',\n",
    "       '15_Daily_Output', '18_Daily_Output', '6FFF_Daily_Output',\n",
    "       '10FFF_Daily_Output', '6__TPR_20,10', '10__TPR_20,10', '15__TPR_20,10',\n",
    "       '18__TPR_20,10', '6FFF__TPR_20,10', '10FFF__TPR_20,10', 'version',\n",
    "       'corr.', 'Alg.', 'Rev.',\n",
    "       'Metric:', 'Case:', 'Depth:', 'Energy:', 'Energy_FFF :', 'Gantry:',\n",
    "       'Mode:', 'Unidentified_column :', 'predictedValue']]"
   ]
  },
  {
   "cell_type": "code",
   "execution_count": 22,
   "id": "ab11d147",
   "metadata": {},
   "outputs": [],
   "source": [
    "combinedAll.to_excel(\"result clean data.xlsx\",index = False,na_rep=\"NA\")\n",
    "combinedAll.to_csv(\"result clean data.csv\",index=False,sep = \"\\t\",na_rep=\"NA\")"
   ]
  }
 ],
 "metadata": {
  "kernelspec": {
   "display_name": "Python 3 (ipykernel)",
   "language": "python",
   "name": "python3"
  },
  "language_info": {
   "codemirror_mode": {
    "name": "ipython",
    "version": 3
   },
   "file_extension": ".py",
   "mimetype": "text/x-python",
   "name": "python",
   "nbconvert_exporter": "python",
   "pygments_lexer": "ipython3",
   "version": "3.10.4"
  }
 },
 "nbformat": 4,
 "nbformat_minor": 5
}
