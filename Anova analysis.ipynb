{
 "cells": [
  {
   "cell_type": "code",
   "execution_count": 12,
   "id": "b2fe522e",
   "metadata": {},
   "outputs": [],
   "source": [
    "import pandas as pd\n",
    "import statsmodels.api as sm\n",
    "from statsmodels.formula.api import ols\n",
    "import matplotlib.pyplot as plt"
   ]
  },
  {
   "cell_type": "code",
   "execution_count": 2,
   "id": "325294e0",
   "metadata": {},
   "outputs": [],
   "source": [
    "df = pd.read_excel(\"Cleansing the data/result clean data.xlsx\")"
   ]
  },
  {
   "cell_type": "code",
   "execution_count": 26,
   "id": "3beb598b",
   "metadata": {},
   "outputs": [
    {
     "data": {
      "image/png": "[encoded data removed]",
      "text/plain": [
       "<Figure size 432x288 with 1 Axes>"
      ]
     },
     "metadata": {
      "needs_background": "light"
     },
     "output_type": "display_data"
    }
   ],
   "source": [
    "# barchart\n",
    "df_clean = df[~df[\"Case:\"].isin([4,5])].copy()\n",
    "Manuf = df_clean.groupby(['Manuf'])['predictedValue'].mean()\n",
    "\n",
    "# create a bar plot\n",
    "ax = Manuf.plot.bar(rot=0)\n",
    "\n",
    "# set the y-axis label\n",
    "ax.set_ylabel('Prescription Point')\n",
    "\n",
    "# display the plot\n",
    "plt.show()"
   ]
  },
  {
   "cell_type": "code",
   "execution_count": 27,
   "id": "9f1da29c",
   "metadata": {},
   "outputs": [
    {
     "name": "stdout",
     "output_type": "stream",
     "text": [
      "               df        sum_sq       mean_sq         F   PR(>F)\n",
      "Manuf         2.0  2.055362e+04  10276.809402  0.241742  0.78526\n",
      "Residual  41976.0  1.784465e+09  42511.554461       NaN      NaN\n"
     ]
    }
   ],
   "source": [
    "# anova test on manufacture\n",
    "\n",
    "# fit an ANOVA model\n",
    "model = ols('predictedValue ~ Manuf', data=df_clean).fit()\n",
    "anova_table = sm.stats.anova_lm(model)\n",
    "\n",
    "# print the ANOVA table\n",
    "print(anova_table)\n"
   ]
  }
 ],
 "metadata": {
  "kernelspec": {
   "display_name": "Python 3 (ipykernel)",
   "language": "python",
   "name": "python3"
  },
  "language_info": {
   "codemirror_mode": {
    "name": "ipython",
    "version": 3
   },
   "file_extension": ".py",
   "mimetype": "text/x-python",
   "name": "python",
   "nbconvert_exporter": "python",
   "pygments_lexer": "ipython3",
   "version": "3.10.4"
  }
 },
 "nbformat": 4,
 "nbformat_minor": 5
}
